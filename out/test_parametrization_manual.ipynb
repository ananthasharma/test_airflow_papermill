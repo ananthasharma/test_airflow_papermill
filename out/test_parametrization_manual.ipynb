{
 "cells": [
  {
   "cell_type": "code",
   "execution_count": 1,
   "metadata": {
    "papermill": {
     "duration": 0.035478,
     "end_time": "2019-07-26T11:59:17.856207",
     "exception": false,
     "start_time": "2019-07-26T11:59:17.820729",
     "status": "completed"
    },
    "tags": [
     "parameters"
    ]
   },
   "outputs": [],
   "source": [
    "timestamp = '123'\n",
    "msg = 'test message'"
   ]
  },
  {
   "cell_type": "code",
   "execution_count": 2,
   "metadata": {
    "papermill": {
     "duration": 0.016416,
     "end_time": "2019-07-26T11:59:17.886655",
     "exception": false,
     "start_time": "2019-07-26T11:59:17.870239",
     "status": "completed"
    },
    "tags": [
     "injected-parameters"
    ]
   },
   "outputs": [],
   "source": [
    "# Parameters\n",
    "timestamp = \"2019-07-26\"\n",
    "msg = \"run from cli\"\n"
   ]
  },
  {
   "cell_type": "code",
   "execution_count": 3,
   "metadata": {
    "papermill": {
     "duration": 0.015596,
     "end_time": "2019-07-26T11:59:17.906356",
     "exception": false,
     "start_time": "2019-07-26T11:59:17.890760",
     "status": "completed"
    },
    "tags": []
   },
   "outputs": [
    {
     "name": "stdout",
     "output_type": "stream",
     "text": [
      "2019-07-26\n"
     ]
    }
   ],
   "source": [
    "print(timestamp)"
   ]
  },
  {
   "cell_type": "code",
   "execution_count": 4,
   "metadata": {
    "papermill": {
     "duration": 0.012187,
     "end_time": "2019-07-26T11:59:17.924227",
     "exception": false,
     "start_time": "2019-07-26T11:59:17.912040",
     "status": "completed"
    },
    "tags": []
   },
   "outputs": [
    {
     "name": "stdout",
     "output_type": "stream",
     "text": [
      "run from cli\n"
     ]
    }
   ],
   "source": [
    "print(msg)"
   ]
  },
  {
   "cell_type": "code",
   "execution_count": null,
   "metadata": {
    "papermill": {
     "duration": 0.003916,
     "end_time": "2019-07-26T11:59:17.932947",
     "exception": false,
     "start_time": "2019-07-26T11:59:17.929031",
     "status": "completed"
    },
    "tags": []
   },
   "outputs": [],
   "source": []
  }
 ],
 "metadata": {
  "celltoolbar": "Tags",
  "kernelspec": {
   "display_name": "Python 3",
   "language": "python",
   "name": "python3"
  },
  "language_info": {
   "codemirror_mode": {
    "name": "ipython",
    "version": 3
   },
   "file_extension": ".py",
   "mimetype": "text/x-python",
   "name": "python",
   "nbconvert_exporter": "python",
   "pygments_lexer": "ipython3",
   "version": "3.7.4"
  },
  "papermill": {
   "duration": 1.199433,
   "end_time": "2019-07-26T11:59:18.243962",
   "environment_variables": {},
   "exception": null,
   "input_path": "notebooks/test_parametrization.ipynb",
   "output_path": "out/test_parametrization_manual.ipynb",
   "parameters": {
    "msg": "run from cli",
    "timestamp": "2019-07-26"
   },
   "start_time": "2019-07-26T11:59:17.044529",
   "version": "1.0.1"
  }
 },
 "nbformat": 4,
 "nbformat_minor": 2
}