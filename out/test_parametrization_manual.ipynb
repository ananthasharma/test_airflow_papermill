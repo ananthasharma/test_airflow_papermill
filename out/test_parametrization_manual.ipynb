{
 "cells": [
  {
   "cell_type": "code",
   "execution_count": 1,
   "metadata": {
    "papermill": {
     "duration": 0.040663,
     "end_time": "2019-07-28T09:29:52.273674",
     "exception": false,
     "start_time": "2019-07-28T09:29:52.233011",
     "status": "completed"
    },
    "tags": [
     "parameters"
    ]
   },
   "outputs": [],
   "source": [
    "timestamp = '123'\n",
    "msg = 'test message'"
   ]
  },
  {
   "cell_type": "code",
   "execution_count": 2,
   "metadata": {
    "papermill": {
     "duration": 0.014404,
     "end_time": "2019-07-28T09:29:52.294154",
     "exception": false,
     "start_time": "2019-07-28T09:29:52.279750",
     "status": "completed"
    },
    "tags": [
     "injected-parameters"
    ]
   },
   "outputs": [],
   "source": [
    "# Parameters\n",
    "timestamp = \"2017-07-26\"\n",
    "msg = \"Running manually on local!\"\n"
   ]
  },
  {
   "cell_type": "code",
   "execution_count": 3,
   "metadata": {
    "papermill": {
     "duration": 0.018019,
     "end_time": "2019-07-28T09:29:52.317731",
     "exception": false,
     "start_time": "2019-07-28T09:29:52.299712",
     "status": "completed"
    },
    "tags": []
   },
   "outputs": [
    {
     "name": "stdout",
     "output_type": "stream",
     "text": [
      "2017-07-26\n"
     ]
    }
   ],
   "source": [
    "print(timestamp)"
   ]
  },
  {
   "cell_type": "code",
   "execution_count": 4,
   "metadata": {
    "papermill": {
     "duration": 0.014322,
     "end_time": "2019-07-28T09:29:52.337204",
     "exception": false,
     "start_time": "2019-07-28T09:29:52.322882",
     "status": "completed"
    },
    "tags": []
   },
   "outputs": [
    {
     "name": "stdout",
     "output_type": "stream",
     "text": [
      "Running manually on local!\n"
     ]
    }
   ],
   "source": [
    "print(msg)"
   ]
  },
  {
   "cell_type": "code",
   "execution_count": null,
   "metadata": {
    "papermill": {
     "duration": 0.005283,
     "end_time": "2019-07-28T09:29:52.347948",
     "exception": false,
     "start_time": "2019-07-28T09:29:52.342665",
     "status": "completed"
    },
    "tags": []
   },
   "outputs": [],
   "source": []
  },
  {
   "cell_type": "code",
   "execution_count": null,
   "metadata": {
    "papermill": {
     "duration": 0.005089,
     "end_time": "2019-07-28T09:29:52.358226",
     "exception": false,
     "start_time": "2019-07-28T09:29:52.353137",
     "status": "completed"
    },
    "tags": []
   },
   "outputs": [],
   "source": []
  }
 ],
 "metadata": {
  "celltoolbar": "Tags",
  "kernelspec": {
   "display_name": "Python 3",
   "language": "python",
   "name": "python3"
  },
  "language_info": {
   "codemirror_mode": {
    "name": "ipython",
    "version": 3
   },
   "file_extension": ".py",
   "mimetype": "text/x-python",
   "name": "python",
   "nbconvert_exporter": "python",
   "pygments_lexer": "ipython3",
   "version": "3.7.4"
  },
  "papermill": {
   "duration": 1.555746,
   "end_time": "2019-07-28T09:29:52.669147",
   "environment_variables": {},
   "exception": null,
   "input_path": "./notebooks/test_parametrization.ipynb",
   "output_path": "./out/test_parametrization_manual.ipynb",
   "parameters": {
    "msg": "Running manually on local!",
    "timestamp": "2017-07-26"
   },
   "start_time": "2019-07-28T09:29:51.113401",
   "version": "1.0.1"
  }
 },
 "nbformat": 4,
 "nbformat_minor": 4
}