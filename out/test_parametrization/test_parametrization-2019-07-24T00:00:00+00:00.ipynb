{
 "cells": [
  {
   "cell_type": "code",
   "execution_count": 1,
   "metadata": {
    "papermill": {
     "duration": 0.055957,
     "end_time": "2019-07-26T12:39:12.825226",
     "exception": false,
     "start_time": "2019-07-26T12:39:12.769269",
     "status": "completed"
    },
    "tags": [
     "parameters"
    ]
   },
   "outputs": [],
   "source": [
    "timestamp = '123'\n",
    "msg = 'test message'"
   ]
  },
  {
   "cell_type": "code",
   "execution_count": 2,
   "metadata": {
    "papermill": {
     "duration": 0.024864,
     "end_time": "2019-07-26T12:39:12.872082",
     "exception": false,
     "start_time": "2019-07-26T12:39:12.847218",
     "status": "completed"
    },
    "tags": [
     "injected-parameters"
    ]
   },
   "outputs": [],
   "source": [
    "# Parameters\n",
    "timestamp = \"2019-07-24T00:00:00+00:00\"\n",
    "msg = \"Run from airflow on 2019-07-24T00:00:00+00:00\"\n"
   ]
  },
  {
   "cell_type": "code",
   "execution_count": 3,
   "metadata": {
    "papermill": {
     "duration": 0.018623,
     "end_time": "2019-07-26T12:39:12.895419",
     "exception": false,
     "start_time": "2019-07-26T12:39:12.876796",
     "status": "completed"
    },
    "tags": []
   },
   "outputs": [
    {
     "name": "stdout",
     "output_type": "stream",
     "text": [
      "2019-07-24T00:00:00+00:00\n"
     ]
    }
   ],
   "source": [
    "print(timestamp)"
   ]
  },
  {
   "cell_type": "code",
   "execution_count": 4,
   "metadata": {
    "papermill": {
     "duration": 0.017748,
     "end_time": "2019-07-26T12:39:12.921238",
     "exception": false,
     "start_time": "2019-07-26T12:39:12.903490",
     "status": "completed"
    },
    "tags": []
   },
   "outputs": [
    {
     "name": "stdout",
     "output_type": "stream",
     "text": [
      "Run from airflow on 2019-07-24T00:00:00+00:00\n"
     ]
    }
   ],
   "source": [
    "print(msg)"
   ]
  },
  {
   "cell_type": "code",
   "execution_count": null,
   "metadata": {
    "papermill": {
     "duration": 0.007825,
     "end_time": "2019-07-26T12:39:12.934035",
     "exception": false,
     "start_time": "2019-07-26T12:39:12.926210",
     "status": "completed"
    },
    "tags": []
   },
   "outputs": [],
   "source": []
  }
 ],
 "metadata": {
  "celltoolbar": "Tags",
  "kernelspec": {
   "display_name": "Python 3",
   "language": "python",
   "name": "python3"
  },
  "language_info": {
   "codemirror_mode": {
    "name": "ipython",
    "version": 3
   },
   "file_extension": ".py",
   "mimetype": "text/x-python",
   "name": "python",
   "nbconvert_exporter": "python",
   "pygments_lexer": "ipython3",
   "version": "3.7.4"
  },
  "papermill": {
   "duration": 1.507757,
   "end_time": "2019-07-26T12:39:13.351180",
   "environment_variables": {},
   "exception": null,
   "input_path": "/home/lukas/work/test/airflow/notebooks/test_parametrization.ipynb",
   "output_path": "/home/lukas/work/test/airflow/out/test_parametrization/test_parametrization-2019-07-24T00:00:00+00:00.ipynb",
   "parameters": {
    "msg": "Run from airflow on 2019-07-24T00:00:00+00:00",
    "timestamp": "2019-07-24T00:00:00+00:00"
   },
   "start_time": "2019-07-26T12:39:11.843423",
   "version": "1.0.1"
  }
 },
 "nbformat": 4,
 "nbformat_minor": 2
}