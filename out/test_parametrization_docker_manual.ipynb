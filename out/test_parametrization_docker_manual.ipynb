{
 "cells": [
  {
   "cell_type": "code",
   "execution_count": 1,
   "metadata": {
    "papermill": {
     "duration": 0.047502,
     "end_time": "2019-07-28T09:01:28.756491",
     "exception": false,
     "start_time": "2019-07-28T09:01:28.708989",
     "status": "completed"
    },
    "tags": [
     "parameters"
    ]
   },
   "outputs": [],
   "source": [
    "timestamp = '123'\n",
    "msg = 'test message'"
   ]
  },
  {
   "cell_type": "code",
   "execution_count": 2,
   "metadata": {
    "papermill": {
     "duration": 0.020788,
     "end_time": "2019-07-28T09:01:28.788781",
     "exception": false,
     "start_time": "2019-07-28T09:01:28.767993",
     "status": "completed"
    },
    "tags": [
     "injected-parameters"
    ]
   },
   "outputs": [],
   "source": [
    "# Parameters\n",
    "timestamp = \"2017-07-26\"\n",
    "msg = \"Running manually from docker!\"\n"
   ]
  },
  {
   "cell_type": "code",
   "execution_count": 3,
   "metadata": {
    "papermill": {
     "duration": 0.022997,
     "end_time": "2019-07-28T09:01:28.820758",
     "exception": false,
     "start_time": "2019-07-28T09:01:28.797761",
     "status": "completed"
    },
    "tags": []
   },
   "outputs": [
    {
     "name": "stdout",
     "output_type": "stream",
     "text": [
      "2017-07-26\n"
     ]
    }
   ],
   "source": [
    "print(timestamp)"
   ]
  },
  {
   "cell_type": "code",
   "execution_count": 4,
   "metadata": {
    "papermill": {
     "duration": 0.017934,
     "end_time": "2019-07-28T09:01:28.848214",
     "exception": false,
     "start_time": "2019-07-28T09:01:28.830280",
     "status": "completed"
    },
    "tags": []
   },
   "outputs": [
    {
     "name": "stdout",
     "output_type": "stream",
     "text": [
      "Running manually from docker!\n"
     ]
    }
   ],
   "source": [
    "print(msg)"
   ]
  },
  {
   "cell_type": "code",
   "execution_count": null,
   "metadata": {
    "papermill": {
     "duration": 0.006665,
     "end_time": "2019-07-28T09:01:28.861953",
     "exception": false,
     "start_time": "2019-07-28T09:01:28.855288",
     "status": "completed"
    },
    "tags": []
   },
   "outputs": [],
   "source": []
  },
  {
   "cell_type": "code",
   "execution_count": null,
   "metadata": {
    "papermill": {
     "duration": 0.007289,
     "end_time": "2019-07-28T09:01:28.876451",
     "exception": false,
     "start_time": "2019-07-28T09:01:28.869162",
     "status": "completed"
    },
    "tags": []
   },
   "outputs": [],
   "source": []
  }
 ],
 "metadata": {
  "celltoolbar": "Tags",
  "kernelspec": {
   "display_name": "Python 3",
   "language": "python",
   "name": "python3"
  },
  "language_info": {
   "codemirror_mode": {
    "name": "ipython",
    "version": 3
   },
   "file_extension": ".py",
   "mimetype": "text/x-python",
   "name": "python",
   "nbconvert_exporter": "python",
   "pygments_lexer": "ipython3",
   "version": "3.7.3"
  },
  "papermill": {
   "duration": 1.518354,
   "end_time": "2019-07-28T09:01:29.191170",
   "environment_variables": {},
   "exception": null,
   "input_path": "/project/notebooks/test_parametrization.ipynb",
   "output_path": "/mnt/data/test_parametrization_docker_manual.ipynb",
   "parameters": {
    "msg": "Running manually from docker!",
    "timestamp": "2017-07-26"
   },
   "start_time": "2019-07-28T09:01:27.672816",
   "version": "1.0.1"
  }
 },
 "nbformat": 4,
 "nbformat_minor": 4
}